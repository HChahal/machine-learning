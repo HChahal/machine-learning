{
 "cells": [
  {
   "cell_type": "code",
   "execution_count": 1,
   "id": "1cfa415c",
   "metadata": {},
   "outputs": [],
   "source": [
    "# Basic utilities\n",
    "import csv\n",
    "import pandas as pd\n",
    "import numpy as np\n",
    "\n",
    "# Transformers\n",
    "from sklearn.pipeline import Pipeline \n",
    "from sklearn.compose import ColumnTransformer\n",
    "from sklearn.preprocessing import OneHotEncoder\n",
    "from sklearn.preprocessing import LabelEncoder\n",
    "from sklearn.preprocessing import RobustScaler\n",
    "from sklearn.preprocessing import Binarizer\n",
    "from sklearn.feature_extraction import DictVectorizer\n",
    "from sklearn.feature_selection import SelectKBest\n",
    "from sklearn.base import BaseEstimator, TransformerMixin\n",
    "\n",
    "# Models\n",
    "from sklearn.linear_model import LogisticRegression \n",
    "from sklearn.ensemble import GradientBoostingClassifier"
   ]
  },
  {
   "cell_type": "markdown",
   "id": "c3048866",
   "metadata": {},
   "source": [
    "## Research Phase"
   ]
  },
  {
   "cell_type": "code",
   "execution_count": null,
   "id": "93eb1bcf",
   "metadata": {},
   "outputs": [],
   "source": [
    "df = pd.read_csv('bank-full.csv', sep=';')\n",
    "df.head()"
   ]
  },
  {
   "cell_type": "code",
   "execution_count": null,
   "id": "653c899b",
   "metadata": {},
   "outputs": [],
   "source": [
    "X = df[[\"age\", \"job\", \"marital\", \"education\", \"default\", \"balance\", \"housing\", \"loan\"]]\n",
    "y = df[\"y\"]"
   ]
  },
  {
   "cell_type": "code",
   "execution_count": null,
   "id": "1c29dfee",
   "metadata": {},
   "outputs": [],
   "source": [
    "X.shape"
   ]
  },
  {
   "cell_type": "code",
   "execution_count": null,
   "id": "07658640",
   "metadata": {},
   "outputs": [],
   "source": [
    "y.shape"
   ]
  },
  {
   "cell_type": "code",
   "execution_count": null,
   "id": "5b2bdc43",
   "metadata": {},
   "outputs": [],
   "source": [
    "ohe = ColumnTransformer([\n",
    "    ('job', OneHotEncoder(), ['job']),\n",
    "    ('marital', OneHotEncoder(), ['marital']),\n",
    "    ('education', OneHotEncoder(), ['education']),\n",
    "    ('default', OneHotEncoder(), ['default']),\n",
    "    ('housing', OneHotEncoder(), ['housing']),\n",
    "    ('loan', OneHotEncoder(), ['loan']),\n",
    "], remainder='passthrough')\n",
    "ohe.fit(X)"
   ]
  },
  {
   "cell_type": "code",
   "execution_count": null,
   "id": "80ace0af",
   "metadata": {},
   "outputs": [],
   "source": [
    "yp = LabelEncoder().fit_transform(y)"
   ]
  },
  {
   "cell_type": "code",
   "execution_count": null,
   "id": "f590ac6e",
   "metadata": {},
   "outputs": [],
   "source": [
    "Xp = ohe.transform(X)\n",
    "Xp.shape"
   ]
  },
  {
   "cell_type": "code",
   "execution_count": null,
   "id": "3ada71ee",
   "metadata": {},
   "outputs": [],
   "source": [
    "model = LogisticRegression(solver='liblinear')\n",
    "model.fit(Xp, y)\n",
    "model.score(Xp, y)"
   ]
  },
  {
   "cell_type": "code",
   "execution_count": null,
   "id": "9bb8c1b9",
   "metadata": {},
   "outputs": [],
   "source": [
    "[a for a in dir(model) if a.endswith('_') and not a.startswith('_')]"
   ]
  },
  {
   "cell_type": "code",
   "execution_count": null,
   "id": "1b9065c7",
   "metadata": {},
   "outputs": [],
   "source": [
    "[a for a in dir(LogisticRegression()) if a.endswith('_') and not a.startswith('_')]"
   ]
  },
  {
   "cell_type": "code",
   "execution_count": null,
   "id": "503f6afd",
   "metadata": {},
   "outputs": [],
   "source": [
    "instance = pd.DataFrame([X.iloc[342]])"
   ]
  },
  {
   "cell_type": "code",
   "execution_count": null,
   "id": "b9fd9567",
   "metadata": {},
   "outputs": [],
   "source": [
    "instance"
   ]
  },
  {
   "cell_type": "code",
   "execution_count": null,
   "id": "d096ce16",
   "metadata": {},
   "outputs": [],
   "source": [
    "model.predict(ohe.transform(instance))"
   ]
  },
  {
   "cell_type": "code",
   "execution_count": null,
   "id": "2407357e",
   "metadata": {},
   "outputs": [],
   "source": [
    "y.iloc[342]"
   ]
  },
  {
   "cell_type": "code",
   "execution_count": null,
   "id": "6b4f5c73",
   "metadata": {},
   "outputs": [],
   "source": [
    "model.predict_proba(ohe.transform(instance))"
   ]
  },
  {
   "cell_type": "code",
   "execution_count": null,
   "id": "ea54e194",
   "metadata": {},
   "outputs": [],
   "source": [
    "from yellowbrick.features import feature_importances"
   ]
  },
  {
   "cell_type": "code",
   "execution_count": null,
   "id": "2f9f690a",
   "metadata": {},
   "outputs": [],
   "source": [
    "feature_importances(model, is_fitted=True, X=Xp, y=y)"
   ]
  },
  {
   "cell_type": "markdown",
   "id": "0677dab7",
   "metadata": {},
   "source": [
    "## Cleanup Phase"
   ]
  },
  {
   "cell_type": "code",
   "execution_count": null,
   "id": "c42e9958",
   "metadata": {},
   "outputs": [],
   "source": [
    "def load_data(path=\"bank-full.csv\", sep=\";\"):\n",
    "    X, y = [], []\n",
    "    with open(path, 'r') as f:\n",
    "        reader = csv.DictReader(f, delimiter=sep)\n",
    "        for row in reader:\n",
    "            y.append(row['y'])\n",
    "            row.pop('y')\n",
    "            X.append(row)\n",
    "    \n",
    "    return X, y\n",
    "\n",
    "\n",
    "X, y = load_data()"
   ]
  },
  {
   "cell_type": "code",
   "execution_count": 2,
   "id": "140170de",
   "metadata": {},
   "outputs": [],
   "source": [
    "df = pd.read_csv('bank-full.csv', sep=';')\n",
    "X = df[[\"age\", \"job\", \"marital\", \"education\", \"default\", \"balance\", \"housing\", \"loan\"]]\n",
    "y = df[\"y\"]"
   ]
  },
  {
   "cell_type": "code",
   "execution_count": null,
   "id": "92370d46",
   "metadata": {},
   "outputs": [],
   "source": [
    "model = Pipeline([\n",
    "    ('cols', ColumnTransformer([\n",
    "        ('age', RobustScaler(), ['age']),\n",
    "        ('job', OneHotEncoder(), ['job']),\n",
    "        ('marital', OneHotEncoder(), ['marital']),\n",
    "        ('education', OneHotEncoder(), ['education']),\n",
    "        ('default', OneHotEncoder(), ['default']),\n",
    "        ('balance', RobustScaler(), ['balance']),\n",
    "        ('housing', OneHotEncoder(), ['housing']),\n",
    "        ('loan', OneHotEncoder(), ['loan']),\n",
    "    ], remainder='drop')),\n",
    "    ('kbest', SelectKBest(k=12)),\n",
    "    ('clf', GradientBoostingClassifier()),\n",
    "])\n",
    "\n",
    "model.fit(X, y)"
   ]
  },
  {
   "cell_type": "code",
   "execution_count": null,
   "id": "01267634",
   "metadata": {},
   "outputs": [],
   "source": [
    "model.score(X,y)"
   ]
  },
  {
   "cell_type": "code",
   "execution_count": null,
   "id": "4254e7eb",
   "metadata": {
    "scrolled": false
   },
   "outputs": [],
   "source": [
    "model.get_params()"
   ]
  },
  {
   "cell_type": "code",
   "execution_count": null,
   "id": "bdbc1515",
   "metadata": {},
   "outputs": [],
   "source": [
    "model.set_params(cols__age__unit_variance=True, cols__age__with_centering=False)"
   ]
  },
  {
   "cell_type": "code",
   "execution_count": null,
   "id": "60f9a2c2",
   "metadata": {},
   "outputs": [],
   "source": [
    "print(model['cols'].named_transformers_['age'].scale_)\n",
    "print(model['cols'].named_transformers_['age'].center_)"
   ]
  },
  {
   "cell_type": "code",
   "execution_count": null,
   "id": "5190fc89",
   "metadata": {},
   "outputs": [],
   "source": [
    "class MyTransformer(BaseEstimator, TransformerMixin):\n",
    "    \n",
    "    def fit(self, X):\n",
    "        # TODO: fit my transfoerm\n",
    "        return self\n",
    "    \n",
    "    def transform(self, X):\n",
    "        # TODO: return new X\n",
    "        return X"
   ]
  },
  {
   "cell_type": "code",
   "execution_count": null,
   "id": "a6b26278",
   "metadata": {},
   "outputs": [],
   "source": [
    "dir(MyTransformer())"
   ]
  },
  {
   "cell_type": "code",
   "execution_count": 10,
   "id": "0ece3988",
   "metadata": {},
   "outputs": [],
   "source": [
    "from yellowbrick.target import class_balance"
   ]
  },
  {
   "cell_type": "code",
   "execution_count": 11,
   "id": "0ee2e76a",
   "metadata": {},
   "outputs": [
    {
     "data": {
      "image/png": "[encoded data removed]",
      "text/plain": [
       "<Figure size 432x288 with 1 Axes>"
      ]
     },
     "metadata": {
      "needs_background": "light"
     },
     "output_type": "display_data"
    },
    {
     "data": {
      "text/html": [
       "<style>#sk-container-id-1 {color: black;background-color: white;}#sk-container-id-1 pre{padding: 0;}#sk-container-id-1 div.sk-toggleable {background-color: white;}#sk-container-id-1 label.sk-toggleable__label {cursor: pointer;display: block;width: 100%;margin-bottom: 0;padding: 0.3em;box-sizing: border-box;text-align: center;}#sk-container-id-1 label.sk-toggleable__label-arrow:before {content: \"▸\";float: left;margin-right: 0.25em;color: #696969;}#sk-container-id-1 label.sk-toggleable__label-arrow:hover:before {color: black;}#sk-container-id-1 div.sk-estimator:hover label.sk-toggleable__label-arrow:before {color: black;}#sk-container-id-1 div.sk-toggleable__content {max-height: 0;max-width: 0;overflow: hidden;text-align: left;background-color: #f0f8ff;}#sk-container-id-1 div.sk-toggleable__content pre {margin: 0.2em;color: black;border-radius: 0.25em;background-color: #f0f8ff;}#sk-container-id-1 input.sk-toggleable__control:checked~div.sk-toggleable__content {max-height: 200px;max-width: 100%;overflow: auto;}#sk-container-id-1 input.sk-toggleable__control:checked~label.sk-toggleable__label-arrow:before {content: \"▾\";}#sk-container-id-1 div.sk-estimator input.sk-toggleable__control:checked~label.sk-toggleable__label {background-color: #d4ebff;}#sk-container-id-1 div.sk-label input.sk-toggleable__control:checked~label.sk-toggleable__label {background-color: #d4ebff;}#sk-container-id-1 input.sk-hidden--visually {border: 0;clip: rect(1px 1px 1px 1px);clip: rect(1px, 1px, 1px, 1px);height: 1px;margin: -1px;overflow: hidden;padding: 0;position: absolute;width: 1px;}#sk-container-id-1 div.sk-estimator {font-family: monospace;background-color: #f0f8ff;border: 1px dotted black;border-radius: 0.25em;box-sizing: border-box;margin-bottom: 0.5em;}#sk-container-id-1 div.sk-estimator:hover {background-color: #d4ebff;}#sk-container-id-1 div.sk-parallel-item::after {content: \"\";width: 100%;border-bottom: 1px solid gray;flex-grow: 1;}#sk-container-id-1 div.sk-label:hover label.sk-toggleable__label {background-color: #d4ebff;}#sk-container-id-1 div.sk-serial::before {content: \"\";position: absolute;border-left: 1px solid gray;box-sizing: border-box;top: 0;bottom: 0;left: 50%;z-index: 0;}#sk-container-id-1 div.sk-serial {display: flex;flex-direction: column;align-items: center;background-color: white;padding-right: 0.2em;padding-left: 0.2em;position: relative;}#sk-container-id-1 div.sk-item {position: relative;z-index: 1;}#sk-container-id-1 div.sk-parallel {display: flex;align-items: stretch;justify-content: center;background-color: white;position: relative;}#sk-container-id-1 div.sk-item::before, #sk-container-id-1 div.sk-parallel-item::before {content: \"\";position: absolute;border-left: 1px solid gray;box-sizing: border-box;top: 0;bottom: 0;left: 50%;z-index: -1;}#sk-container-id-1 div.sk-parallel-item {display: flex;flex-direction: column;z-index: 1;position: relative;background-color: white;}#sk-container-id-1 div.sk-parallel-item:first-child::after {align-self: flex-end;width: 50%;}#sk-container-id-1 div.sk-parallel-item:last-child::after {align-self: flex-start;width: 50%;}#sk-container-id-1 div.sk-parallel-item:only-child::after {width: 0;}#sk-container-id-1 div.sk-dashed-wrapped {border: 1px dashed gray;margin: 0 0.4em 0.5em 0.4em;box-sizing: border-box;padding-bottom: 0.4em;background-color: white;}#sk-container-id-1 div.sk-label label {font-family: monospace;font-weight: bold;display: inline-block;line-height: 1.2em;}#sk-container-id-1 div.sk-label-container {text-align: center;}#sk-container-id-1 div.sk-container {/* jupyter's `normalize.less` sets `[hidden] { display: none; }` but bootstrap.min.css set `[hidden] { display: none !important; }` so we also need the `!important` here to be able to override the default hidden behavior on the sphinx rendered scikit-learn.org. See: https://github.com/scikit-learn/scikit-learn/issues/21755 */display: inline-block !important;position: relative;}#sk-container-id-1 div.sk-text-repr-fallback {display: none;}</style><div id=\"sk-container-id-1\" class=\"sk-top-container\"><div class=\"sk-text-repr-fallback\"><pre>ClassBalance(ax=&lt;AxesSubplot:title={&#x27;center&#x27;:&#x27;Class Balance for 45,211 Instances&#x27;}, ylabel=&#x27;support&#x27;&gt;)</pre><b>In a Jupyter environment, please rerun this cell to show the HTML representation or trust the notebook. <br />On GitHub, the HTML representation is unable to render, please try loading this page with nbviewer.org.</b></div><div class=\"sk-container\" hidden><div class=\"sk-item\"><div class=\"sk-estimator sk-toggleable\"><input class=\"sk-toggleable__control sk-hidden--visually\" id=\"sk-estimator-id-1\" type=\"checkbox\" checked><label for=\"sk-estimator-id-1\" class=\"sk-toggleable__label sk-toggleable__label-arrow\">ClassBalance</label><div class=\"sk-toggleable__content\"><pre>ClassBalance(ax=&lt;AxesSubplot:title={&#x27;center&#x27;:&#x27;Class Balance for 45,211 Instances&#x27;}, ylabel=&#x27;support&#x27;&gt;)</pre></div></div></div></div></div>"
      ],
      "text/plain": [
       "ClassBalance(ax=<AxesSubplot:title={'center':'Class Balance for 45,211 Instances'}, ylabel='support'>)"
      ]
     },
     "execution_count": 11,
     "metadata": {},
     "output_type": "execute_result"
    }
   ],
   "source": [
    "class_balance(y)"
   ]
  },
  {
   "cell_type": "markdown",
   "id": "4a240a39",
   "metadata": {},
   "source": [
    "## Cross Validation"
   ]
  },
  {
   "cell_type": "code",
   "execution_count": 3,
   "id": "c2c44fb1",
   "metadata": {},
   "outputs": [],
   "source": [
    "from sklearn.model_selection import train_test_split as tts\n",
    "from sklearn.model_selection import cross_val_score"
   ]
  },
  {
   "cell_type": "code",
   "execution_count": 14,
   "id": "93b671b6",
   "metadata": {},
   "outputs": [],
   "source": [
    "# Create train test splits for initial evaluation\n",
    "X_train, X_test, y_train, y_test = tts(X, y, train_size=0.8, shuffle=True, stratify=y)"
   ]
  },
  {
   "cell_type": "code",
   "execution_count": 15,
   "id": "03973f54",
   "metadata": {},
   "outputs": [
    {
     "name": "stdout",
     "output_type": "stream",
     "text": [
      "(36168, 8) (36168,)\n"
     ]
    }
   ],
   "source": [
    "print(X_train.shape, y_train.shape)"
   ]
  },
  {
   "cell_type": "code",
   "execution_count": 16,
   "id": "9a47e83d",
   "metadata": {},
   "outputs": [
    {
     "name": "stdout",
     "output_type": "stream",
     "text": [
      "(9043, 8) (9043,)\n"
     ]
    }
   ],
   "source": [
    "print(X_test.shape, y_test.shape)"
   ]
  },
  {
   "cell_type": "code",
   "execution_count": 20,
   "id": "f1cf2183",
   "metadata": {},
   "outputs": [
    {
     "data": {
      "image/png": "[encoded data removed]",
      "text/plain": [
       "<Figure size 432x288 with 1 Axes>"
      ]
     },
     "metadata": {
      "needs_background": "light"
     },
     "output_type": "display_data"
    },
    {
     "data": {
      "text/html": [
       "<style>#sk-container-id-2 {color: black;background-color: white;}#sk-container-id-2 pre{padding: 0;}#sk-container-id-2 div.sk-toggleable {background-color: white;}#sk-container-id-2 label.sk-toggleable__label {cursor: pointer;display: block;width: 100%;margin-bottom: 0;padding: 0.3em;box-sizing: border-box;text-align: center;}#sk-container-id-2 label.sk-toggleable__label-arrow:before {content: \"▸\";float: left;margin-right: 0.25em;color: #696969;}#sk-container-id-2 label.sk-toggleable__label-arrow:hover:before {color: black;}#sk-container-id-2 div.sk-estimator:hover label.sk-toggleable__label-arrow:before {color: black;}#sk-container-id-2 div.sk-toggleable__content {max-height: 0;max-width: 0;overflow: hidden;text-align: left;background-color: #f0f8ff;}#sk-container-id-2 div.sk-toggleable__content pre {margin: 0.2em;color: black;border-radius: 0.25em;background-color: #f0f8ff;}#sk-container-id-2 input.sk-toggleable__control:checked~div.sk-toggleable__content {max-height: 200px;max-width: 100%;overflow: auto;}#sk-container-id-2 input.sk-toggleable__control:checked~label.sk-toggleable__label-arrow:before {content: \"▾\";}#sk-container-id-2 div.sk-estimator input.sk-toggleable__control:checked~label.sk-toggleable__label {background-color: #d4ebff;}#sk-container-id-2 div.sk-label input.sk-toggleable__control:checked~label.sk-toggleable__label {background-color: #d4ebff;}#sk-container-id-2 input.sk-hidden--visually {border: 0;clip: rect(1px 1px 1px 1px);clip: rect(1px, 1px, 1px, 1px);height: 1px;margin: -1px;overflow: hidden;padding: 0;position: absolute;width: 1px;}#sk-container-id-2 div.sk-estimator {font-family: monospace;background-color: #f0f8ff;border: 1px dotted black;border-radius: 0.25em;box-sizing: border-box;margin-bottom: 0.5em;}#sk-container-id-2 div.sk-estimator:hover {background-color: #d4ebff;}#sk-container-id-2 div.sk-parallel-item::after {content: \"\";width: 100%;border-bottom: 1px solid gray;flex-grow: 1;}#sk-container-id-2 div.sk-label:hover label.sk-toggleable__label {background-color: #d4ebff;}#sk-container-id-2 div.sk-serial::before {content: \"\";position: absolute;border-left: 1px solid gray;box-sizing: border-box;top: 0;bottom: 0;left: 50%;z-index: 0;}#sk-container-id-2 div.sk-serial {display: flex;flex-direction: column;align-items: center;background-color: white;padding-right: 0.2em;padding-left: 0.2em;position: relative;}#sk-container-id-2 div.sk-item {position: relative;z-index: 1;}#sk-container-id-2 div.sk-parallel {display: flex;align-items: stretch;justify-content: center;background-color: white;position: relative;}#sk-container-id-2 div.sk-item::before, #sk-container-id-2 div.sk-parallel-item::before {content: \"\";position: absolute;border-left: 1px solid gray;box-sizing: border-box;top: 0;bottom: 0;left: 50%;z-index: -1;}#sk-container-id-2 div.sk-parallel-item {display: flex;flex-direction: column;z-index: 1;position: relative;background-color: white;}#sk-container-id-2 div.sk-parallel-item:first-child::after {align-self: flex-end;width: 50%;}#sk-container-id-2 div.sk-parallel-item:last-child::after {align-self: flex-start;width: 50%;}#sk-container-id-2 div.sk-parallel-item:only-child::after {width: 0;}#sk-container-id-2 div.sk-dashed-wrapped {border: 1px dashed gray;margin: 0 0.4em 0.5em 0.4em;box-sizing: border-box;padding-bottom: 0.4em;background-color: white;}#sk-container-id-2 div.sk-label label {font-family: monospace;font-weight: bold;display: inline-block;line-height: 1.2em;}#sk-container-id-2 div.sk-label-container {text-align: center;}#sk-container-id-2 div.sk-container {/* jupyter's `normalize.less` sets `[hidden] { display: none; }` but bootstrap.min.css set `[hidden] { display: none !important; }` so we also need the `!important` here to be able to override the default hidden behavior on the sphinx rendered scikit-learn.org. See: https://github.com/scikit-learn/scikit-learn/issues/21755 */display: inline-block !important;position: relative;}#sk-container-id-2 div.sk-text-repr-fallback {display: none;}</style><div id=\"sk-container-id-2\" class=\"sk-top-container\"><div class=\"sk-text-repr-fallback\"><pre>ClassBalance(ax=&lt;AxesSubplot:title={&#x27;center&#x27;:&#x27;Class Balance for 9,043 Instances&#x27;}, ylabel=&#x27;support&#x27;&gt;)</pre><b>In a Jupyter environment, please rerun this cell to show the HTML representation or trust the notebook. <br />On GitHub, the HTML representation is unable to render, please try loading this page with nbviewer.org.</b></div><div class=\"sk-container\" hidden><div class=\"sk-item\"><div class=\"sk-estimator sk-toggleable\"><input class=\"sk-toggleable__control sk-hidden--visually\" id=\"sk-estimator-id-2\" type=\"checkbox\" checked><label for=\"sk-estimator-id-2\" class=\"sk-toggleable__label sk-toggleable__label-arrow\">ClassBalance</label><div class=\"sk-toggleable__content\"><pre>ClassBalance(ax=&lt;AxesSubplot:title={&#x27;center&#x27;:&#x27;Class Balance for 9,043 Instances&#x27;}, ylabel=&#x27;support&#x27;&gt;)</pre></div></div></div></div></div>"
      ],
      "text/plain": [
       "ClassBalance(ax=<AxesSubplot:title={'center':'Class Balance for 9,043 Instances'}, ylabel='support'>)"
      ]
     },
     "execution_count": 20,
     "metadata": {},
     "output_type": "execute_result"
    }
   ],
   "source": [
    "class_balance(y_test)"
   ]
  },
  {
   "cell_type": "code",
   "execution_count": 21,
   "id": "61687724",
   "metadata": {},
   "outputs": [
    {
     "data": {
      "image/png": "[encoded data removed]",
      "text/plain": [
       "<Figure size 432x288 with 1 Axes>"
      ]
     },
     "metadata": {
      "needs_background": "light"
     },
     "output_type": "display_data"
    },
    {
     "data": {
      "text/html": [
       "<style>#sk-container-id-3 {color: black;background-color: white;}#sk-container-id-3 pre{padding: 0;}#sk-container-id-3 div.sk-toggleable {background-color: white;}#sk-container-id-3 label.sk-toggleable__label {cursor: pointer;display: block;width: 100%;margin-bottom: 0;padding: 0.3em;box-sizing: border-box;text-align: center;}#sk-container-id-3 label.sk-toggleable__label-arrow:before {content: \"▸\";float: left;margin-right: 0.25em;color: #696969;}#sk-container-id-3 label.sk-toggleable__label-arrow:hover:before {color: black;}#sk-container-id-3 div.sk-estimator:hover label.sk-toggleable__label-arrow:before {color: black;}#sk-container-id-3 div.sk-toggleable__content {max-height: 0;max-width: 0;overflow: hidden;text-align: left;background-color: #f0f8ff;}#sk-container-id-3 div.sk-toggleable__content pre {margin: 0.2em;color: black;border-radius: 0.25em;background-color: #f0f8ff;}#sk-container-id-3 input.sk-toggleable__control:checked~div.sk-toggleable__content {max-height: 200px;max-width: 100%;overflow: auto;}#sk-container-id-3 input.sk-toggleable__control:checked~label.sk-toggleable__label-arrow:before {content: \"▾\";}#sk-container-id-3 div.sk-estimator input.sk-toggleable__control:checked~label.sk-toggleable__label {background-color: #d4ebff;}#sk-container-id-3 div.sk-label input.sk-toggleable__control:checked~label.sk-toggleable__label {background-color: #d4ebff;}#sk-container-id-3 input.sk-hidden--visually {border: 0;clip: rect(1px 1px 1px 1px);clip: rect(1px, 1px, 1px, 1px);height: 1px;margin: -1px;overflow: hidden;padding: 0;position: absolute;width: 1px;}#sk-container-id-3 div.sk-estimator {font-family: monospace;background-color: #f0f8ff;border: 1px dotted black;border-radius: 0.25em;box-sizing: border-box;margin-bottom: 0.5em;}#sk-container-id-3 div.sk-estimator:hover {background-color: #d4ebff;}#sk-container-id-3 div.sk-parallel-item::after {content: \"\";width: 100%;border-bottom: 1px solid gray;flex-grow: 1;}#sk-container-id-3 div.sk-label:hover label.sk-toggleable__label {background-color: #d4ebff;}#sk-container-id-3 div.sk-serial::before {content: \"\";position: absolute;border-left: 1px solid gray;box-sizing: border-box;top: 0;bottom: 0;left: 50%;z-index: 0;}#sk-container-id-3 div.sk-serial {display: flex;flex-direction: column;align-items: center;background-color: white;padding-right: 0.2em;padding-left: 0.2em;position: relative;}#sk-container-id-3 div.sk-item {position: relative;z-index: 1;}#sk-container-id-3 div.sk-parallel {display: flex;align-items: stretch;justify-content: center;background-color: white;position: relative;}#sk-container-id-3 div.sk-item::before, #sk-container-id-3 div.sk-parallel-item::before {content: \"\";position: absolute;border-left: 1px solid gray;box-sizing: border-box;top: 0;bottom: 0;left: 50%;z-index: -1;}#sk-container-id-3 div.sk-parallel-item {display: flex;flex-direction: column;z-index: 1;position: relative;background-color: white;}#sk-container-id-3 div.sk-parallel-item:first-child::after {align-self: flex-end;width: 50%;}#sk-container-id-3 div.sk-parallel-item:last-child::after {align-self: flex-start;width: 50%;}#sk-container-id-3 div.sk-parallel-item:only-child::after {width: 0;}#sk-container-id-3 div.sk-dashed-wrapped {border: 1px dashed gray;margin: 0 0.4em 0.5em 0.4em;box-sizing: border-box;padding-bottom: 0.4em;background-color: white;}#sk-container-id-3 div.sk-label label {font-family: monospace;font-weight: bold;display: inline-block;line-height: 1.2em;}#sk-container-id-3 div.sk-label-container {text-align: center;}#sk-container-id-3 div.sk-container {/* jupyter's `normalize.less` sets `[hidden] { display: none; }` but bootstrap.min.css set `[hidden] { display: none !important; }` so we also need the `!important` here to be able to override the default hidden behavior on the sphinx rendered scikit-learn.org. See: https://github.com/scikit-learn/scikit-learn/issues/21755 */display: inline-block !important;position: relative;}#sk-container-id-3 div.sk-text-repr-fallback {display: none;}</style><div id=\"sk-container-id-3\" class=\"sk-top-container\"><div class=\"sk-text-repr-fallback\"><pre>ClassBalance(ax=&lt;AxesSubplot:title={&#x27;center&#x27;:&#x27;Class Balance for 36,168 Instances&#x27;}, ylabel=&#x27;support&#x27;&gt;)</pre><b>In a Jupyter environment, please rerun this cell to show the HTML representation or trust the notebook. <br />On GitHub, the HTML representation is unable to render, please try loading this page with nbviewer.org.</b></div><div class=\"sk-container\" hidden><div class=\"sk-item\"><div class=\"sk-estimator sk-toggleable\"><input class=\"sk-toggleable__control sk-hidden--visually\" id=\"sk-estimator-id-3\" type=\"checkbox\" checked><label for=\"sk-estimator-id-3\" class=\"sk-toggleable__label sk-toggleable__label-arrow\">ClassBalance</label><div class=\"sk-toggleable__content\"><pre>ClassBalance(ax=&lt;AxesSubplot:title={&#x27;center&#x27;:&#x27;Class Balance for 36,168 Instances&#x27;}, ylabel=&#x27;support&#x27;&gt;)</pre></div></div></div></div></div>"
      ],
      "text/plain": [
       "ClassBalance(ax=<AxesSubplot:title={'center':'Class Balance for 36,168 Instances'}, ylabel='support'>)"
      ]
     },
     "execution_count": 21,
     "metadata": {},
     "output_type": "execute_result"
    }
   ],
   "source": [
    "class_balance(y_train)"
   ]
  },
  {
   "cell_type": "code",
   "execution_count": null,
   "id": "71e80922",
   "metadata": {},
   "outputs": [],
   "source": [
    "# Evaluate Gradient Boosting\n",
    "model = Pipeline([\n",
    "    ('cols', ColumnTransformer([\n",
    "        ('age', RobustScaler(), ['age']),\n",
    "        ('job', OneHotEncoder(), ['job']),\n",
    "        ('marital', OneHotEncoder(), ['marital']),\n",
    "        ('education', OneHotEncoder(), ['education']),\n",
    "        ('default', OneHotEncoder(), ['default']),\n",
    "        ('balance', RobustScaler(), ['balance']),\n",
    "        ('housing', OneHotEncoder(), ['housing']),\n",
    "        ('loan', OneHotEncoder(), ['loan']),\n",
    "    ], remainder='drop')),\n",
    "    ('kbest', SelectKBest(k=12)),\n",
    "    ('clf', GradientBoostingClassifier()),\n",
    "])\n",
    "\n",
    "model.fit(X_train, y_train)\n",
    "model.score(X_test, y_test)"
   ]
  },
  {
   "cell_type": "code",
   "execution_count": null,
   "id": "4c803e04",
   "metadata": {},
   "outputs": [],
   "source": [
    "# Evaluate Gradient Boosting\n",
    "model = Pipeline([\n",
    "    ('cols', ColumnTransformer([\n",
    "        ('age', RobustScaler(), ['age']),\n",
    "        ('job', OneHotEncoder(), ['job']),\n",
    "        ('marital', OneHotEncoder(), ['marital']),\n",
    "        ('education', OneHotEncoder(), ['education']),\n",
    "        ('default', OneHotEncoder(), ['default']),\n",
    "        ('balance', RobustScaler(), ['balance']),\n",
    "        ('housing', OneHotEncoder(), ['housing']),\n",
    "        ('loan', OneHotEncoder(), ['loan']),\n",
    "    ], remainder='drop')),\n",
    "    ('kbest', SelectKBest(k=12)),\n",
    "    ('clf', LogisticRegression()),\n",
    "])\n",
    "\n",
    "model.fit(X_train, y_train)\n",
    "model.score(X_test, y_test)"
   ]
  },
  {
   "cell_type": "code",
   "execution_count": null,
   "id": "fffd7c6c",
   "metadata": {},
   "outputs": [],
   "source": [
    "# Evaluate Gradient Boosting\n",
    "model = Pipeline([\n",
    "    ('cols', ColumnTransformer([\n",
    "        ('age', RobustScaler(), ['age']),\n",
    "        ('job', OneHotEncoder(), ['job']),\n",
    "        ('marital', OneHotEncoder(), ['marital']),\n",
    "        ('education', OneHotEncoder(), ['education']),\n",
    "        ('default', OneHotEncoder(), ['default']),\n",
    "        ('balance', RobustScaler(), ['balance']),\n",
    "        ('housing', OneHotEncoder(), ['housing']),\n",
    "        ('loan', OneHotEncoder(), ['loan']),\n",
    "    ], remainder='drop')),\n",
    "    ('clf', LogisticRegression(max_iter=5000)),\n",
    "])\n",
    "\n",
    "model.fit(X_train, y_train)\n",
    "model.score(X_test, y_test)"
   ]
  },
  {
   "cell_type": "code",
   "execution_count": null,
   "id": "e0197792",
   "metadata": {},
   "outputs": [],
   "source": [
    "from sklearn.preprocessing import MinMaxScaler\n",
    "from sklearn.naive_bayes import MultinomialNB\n",
    "\n",
    "# Evaluate Gradient Boosting\n",
    "model = Pipeline([\n",
    "    ('cols', ColumnTransformer([\n",
    "        ('age', MinMaxScaler(), ['age']),\n",
    "        ('job', OneHotEncoder(), ['job']),\n",
    "        ('marital', OneHotEncoder(), ['marital']),\n",
    "        ('education', OneHotEncoder(), ['education']),\n",
    "        ('default', OneHotEncoder(), ['default']),\n",
    "        ('balance', MinMaxScaler(), ['balance']),\n",
    "        ('housing', OneHotEncoder(), ['housing']),\n",
    "        ('loan', OneHotEncoder(), ['loan']),\n",
    "    ], remainder='drop')),\n",
    "    ('clf', MultinomialNB()),\n",
    "])\n",
    "\n",
    "model.fit(X_train, y_train)\n",
    "model.score(X_test, y_test)"
   ]
  },
  {
   "cell_type": "code",
   "execution_count": 27,
   "id": "7b0d7bc6",
   "metadata": {},
   "outputs": [
    {
     "data": {
      "text/plain": [
       "0.8830034280659074"
      ]
     },
     "execution_count": 27,
     "metadata": {},
     "output_type": "execute_result"
    }
   ],
   "source": [
    "from sklearn.preprocessing import MinMaxScaler\n",
    "from sklearn.naive_bayes import MultinomialNB\n",
    "\n",
    "# Evaluate Gradient Boosting\n",
    "model = Pipeline([\n",
    "    ('cols', ColumnTransformer([\n",
    "        ('education', OneHotEncoder(), ['education']),\n",
    "    ], remainder='drop')),\n",
    "    ('clf', MultinomialNB()),\n",
    "])\n",
    "\n",
    "model.fit(X_train, y_train)\n",
    "model.score(X_test, y_test)"
   ]
  },
  {
   "cell_type": "code",
   "execution_count": 23,
   "id": "9236c901",
   "metadata": {},
   "outputs": [],
   "source": [
    "from sklearn.model_selection import cross_val_score"
   ]
  },
  {
   "cell_type": "code",
   "execution_count": 28,
   "id": "fde48c94",
   "metadata": {},
   "outputs": [
    {
     "data": {
      "text/plain": [
       "array([0.88296178, 0.88296178, 0.88296178, 0.88296178, 0.88296178,\n",
       "       0.88296178, 0.88296178, 0.88319618, 0.88319618, 0.88319618,\n",
       "       0.88293071, 0.88293071])"
      ]
     },
     "execution_count": 28,
     "metadata": {},
     "output_type": "execute_result"
    }
   ],
   "source": [
    "cross_val_score(model, X, y, cv=12)"
   ]
  },
  {
   "cell_type": "code",
   "execution_count": 45,
   "id": "5ce26e5d",
   "metadata": {},
   "outputs": [
    {
     "data": {
      "text/plain": [
       "0.7865752515758044"
      ]
     },
     "execution_count": 45,
     "metadata": {},
     "output_type": "execute_result"
    }
   ],
   "source": [
    "from sklearn.linear_model import Perceptron\n",
    "\n",
    "# Evaluate Gradient Boosting\n",
    "model = Pipeline([\n",
    "    ('cols', ColumnTransformer([\n",
    "        ('age', RobustScaler(), ['age']),\n",
    "        ('job', OneHotEncoder(), ['job']),\n",
    "        ('marital', OneHotEncoder(), ['marital']),\n",
    "        ('education', OneHotEncoder(), ['education']),\n",
    "        ('default', OneHotEncoder(), ['default']),\n",
    "        ('balance', RobustScaler(), ['balance']),\n",
    "        ('housing', OneHotEncoder(), ['housing']),\n",
    "        ('loan', OneHotEncoder(), ['loan']),\n",
    "    ], remainder='drop')),\n",
    "    ('clf', Perceptron()),\n",
    "])\n",
    "\n",
    "model.fit(X_train, y_train)\n",
    "model.score(X_test, y_test)"
   ]
  },
  {
   "cell_type": "code",
   "execution_count": 46,
   "id": "8b07d73b",
   "metadata": {},
   "outputs": [
    {
     "data": {
      "text/plain": [
       "array([0.87765393, 0.87314225, 0.82059448, 0.85828025, 0.87738854,\n",
       "       0.81661359, 0.82696391, 0.87974516, 0.87310857, 0.85744624,\n",
       "       0.85824263, 0.48579772])"
      ]
     },
     "execution_count": 46,
     "metadata": {},
     "output_type": "execute_result"
    }
   ],
   "source": [
    "cross_val_score(model, X, y, cv=12)"
   ]
  }
 ],
 "metadata": {
  "kernelspec": {
   "display_name": "Python 3 (ipykernel)",
   "language": "python",
   "name": "python3"
  },
  "language_info": {
   "codemirror_mode": {
    "name": "ipython",
    "version": 3
   },
   "file_extension": ".py",
   "mimetype": "text/x-python",
   "name": "python",
   "nbconvert_exporter": "python",
   "pygments_lexer": "ipython3",
   "version": "3.10.2"
  }
 },
 "nbformat": 4,
 "nbformat_minor": 5
}
